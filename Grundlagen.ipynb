{
 "cells": [
  {
   "cell_type": "code",
   "execution_count": 3,
   "id": "5cdf4a14-4905-41bb-a0f1-6bf1b4add184",
   "metadata": {},
   "outputs": [],
   "source": [
    "import pandas as pd"
   ]
  },
  {
   "cell_type": "code",
   "execution_count": 8,
   "id": "744814f7-fd49-43d9-a0be-90b5d2fd3cf0",
   "metadata": {},
   "outputs": [
    {
     "data": {
      "text/plain": [
       "Developer, full-stack                                                                                                                                                                                                                                                                                                                                                                                          8601\n",
       "Developer, back-end                                                                                                                                                                                                                                                                                                                                                                                            5467\n",
       "Developer, front-end                                                                                                                                                                                                                                                                                                                                                                                           2402\n",
       "Developer, front-end;Developer, full-stack;Developer, back-end                                                                                                                                                                                                                                                                                                                                                 2141\n",
       "Developer, full-stack;Developer, back-end                                                                                                                                                                                                                                                                                                                                                                      1774\n",
       "                                                                                                                                                                                                                                                                                                                                                                                                               ... \n",
       "Developer, mobile;Developer, desktop or enterprise applications;Developer, full-stack;Engineer, data                                                                                                                                                                                                                                                                                                              1\n",
       "Developer, mobile;Developer, front-end;Developer, desktop or enterprise applications;Developer, full-stack;Engineer, data;Developer, back-end;Scientist;Developer, QA or test;Developer, game or graphics;Developer, embedded applications or devices;DevOps specialist;Engineering manager;Engineer, site reliability;Product manager;Senior Executive (C-Suite, VP, etc.);Marketing or sales professional       1\n",
       "Developer, back-end;Student;Developer, embedded applications or devices;Designer                                                                                                                                                                                                                                                                                                                                  1\n",
       "Developer, front-end;Developer, full-stack;Engineer, data;Data scientist or machine learning specialist;Developer, back-end;Database administrator;Designer;Engineering manager;Engineer, site reliability;Product manager;Senior Executive (C-Suite, VP, etc.);Marketing or sales professional                                                                                                                   1\n",
       "Developer, mobile;Developer, desktop or enterprise applications;Data scientist or machine learning specialist;Developer, back-end;Engineering manager                                                                                                                                                                                                                                                             1\n",
       "Name: DevType, Length: 8626, dtype: int64"
      ]
     },
     "execution_count": 8,
     "metadata": {},
     "output_type": "execute_result"
    }
   ],
   "source": [
    "df = pd.read_csv(\"./datasets/devsurvey2021/survey_results_public.csv\", index_col='ResponseId')\n",
    "df.DevType.value_counts()"
   ]
  },
  {
   "cell_type": "code",
   "execution_count": 38,
   "id": "9af8b82e-325d-45fb-bbc1-9d8100517e1b",
   "metadata": {},
   "outputs": [
    {
     "name": "stdout",
     "output_type": "stream",
     "text": [
      "front: 1.0    back: 0.0    full: 1.0\n"
     ]
    },
    {
     "data": {
      "text/plain": [
       "ResponseId\n",
       "1                                    Developer, mobile\n",
       "2                                                  NaN\n",
       "3                                                  NaN\n",
       "4                                 Developer, front-end\n",
       "5    Developer, desktop or enterprise applications;...\n",
       "Name: DevType, dtype: object"
      ]
     },
     "execution_count": 38,
     "metadata": {},
     "output_type": "execute_result"
    }
   ],
   "source": [
    "front = df.DevType.head().str.count('Developer, front-end').sum()\n",
    "back = df.DevType.head().str.count('Developer, back-end').sum()\n",
    "full = df.DevType.head().str.count('Developer, full-stack').sum()\n",
    "print('front: ' + str(front) + '    back: ' + str(back) + '    full: ' + str(full))\n",
    "df.DevType.head()"
   ]
  },
  {
   "cell_type": "code",
   "execution_count": 29,
   "id": "69661a0e-b560-4b1f-b7e1-5c0a9ced80e4",
   "metadata": {},
   "outputs": [
    {
     "data": {
      "text/html": [
       "<div>\n",
       "<style scoped>\n",
       "    .dataframe tbody tr th:only-of-type {\n",
       "        vertical-align: middle;\n",
       "    }\n",
       "\n",
       "    .dataframe tbody tr th {\n",
       "        vertical-align: top;\n",
       "    }\n",
       "\n",
       "    .dataframe thead th {\n",
       "        text-align: right;\n",
       "    }\n",
       "</style>\n",
       "<table border=\"1\" class=\"dataframe\">\n",
       "  <thead>\n",
       "    <tr style=\"text-align: right;\">\n",
       "      <th></th>\n",
       "      <th>ResponseId</th>\n",
       "      <th>MainBranch</th>\n",
       "      <th>Employment</th>\n",
       "      <th>Country</th>\n",
       "      <th>US_State</th>\n",
       "      <th>UK_Country</th>\n",
       "      <th>EdLevel</th>\n",
       "      <th>Age1stCode</th>\n",
       "      <th>LearnCode</th>\n",
       "      <th>YearsCode</th>\n",
       "      <th>...</th>\n",
       "      <th>Age</th>\n",
       "      <th>Gender</th>\n",
       "      <th>Trans</th>\n",
       "      <th>Sexuality</th>\n",
       "      <th>Ethnicity</th>\n",
       "      <th>Accessibility</th>\n",
       "      <th>MentalHealth</th>\n",
       "      <th>SurveyLength</th>\n",
       "      <th>SurveyEase</th>\n",
       "      <th>ConvertedCompYearly</th>\n",
       "    </tr>\n",
       "  </thead>\n",
       "  <tbody>\n",
       "    <tr>\n",
       "      <th>0</th>\n",
       "      <td>1</td>\n",
       "      <td>I am a developer by profession</td>\n",
       "      <td>Independent contractor, freelancer, or self-em...</td>\n",
       "      <td>Slovakia</td>\n",
       "      <td>NaN</td>\n",
       "      <td>NaN</td>\n",
       "      <td>Secondary school (e.g. American high school, G...</td>\n",
       "      <td>18 - 24 years</td>\n",
       "      <td>Coding Bootcamp;Other online resources (ex: vi...</td>\n",
       "      <td>NaN</td>\n",
       "      <td>...</td>\n",
       "      <td>25-34 years old</td>\n",
       "      <td>Man</td>\n",
       "      <td>No</td>\n",
       "      <td>Straight / Heterosexual</td>\n",
       "      <td>White or of European descent</td>\n",
       "      <td>None of the above</td>\n",
       "      <td>None of the above</td>\n",
       "      <td>Appropriate in length</td>\n",
       "      <td>Easy</td>\n",
       "      <td>62268.0</td>\n",
       "    </tr>\n",
       "    <tr>\n",
       "      <th>1</th>\n",
       "      <td>2</td>\n",
       "      <td>I am a student who is learning to code</td>\n",
       "      <td>Student, full-time</td>\n",
       "      <td>Netherlands</td>\n",
       "      <td>NaN</td>\n",
       "      <td>NaN</td>\n",
       "      <td>Bachelor’s degree (B.A., B.S., B.Eng., etc.)</td>\n",
       "      <td>11 - 17 years</td>\n",
       "      <td>Other online resources (ex: videos, blogs, etc...</td>\n",
       "      <td>7</td>\n",
       "      <td>...</td>\n",
       "      <td>18-24 years old</td>\n",
       "      <td>Man</td>\n",
       "      <td>No</td>\n",
       "      <td>Straight / Heterosexual</td>\n",
       "      <td>White or of European descent</td>\n",
       "      <td>None of the above</td>\n",
       "      <td>None of the above</td>\n",
       "      <td>Appropriate in length</td>\n",
       "      <td>Easy</td>\n",
       "      <td>NaN</td>\n",
       "    </tr>\n",
       "  </tbody>\n",
       "</table>\n",
       "<p>2 rows × 48 columns</p>\n",
       "</div>"
      ],
      "text/plain": [
       "   ResponseId                              MainBranch  \\\n",
       "0           1          I am a developer by profession   \n",
       "1           2  I am a student who is learning to code   \n",
       "\n",
       "                                          Employment      Country  US_State  \\\n",
       "0  Independent contractor, freelancer, or self-em...     Slovakia       NaN   \n",
       "1                                 Student, full-time  Netherlands       NaN   \n",
       "\n",
       "   UK_Country                                            EdLevel  \\\n",
       "0         NaN  Secondary school (e.g. American high school, G...   \n",
       "1         NaN       Bachelor’s degree (B.A., B.S., B.Eng., etc.)   \n",
       "\n",
       "      Age1stCode                                          LearnCode YearsCode  \\\n",
       "0  18 - 24 years  Coding Bootcamp;Other online resources (ex: vi...       NaN   \n",
       "1  11 - 17 years  Other online resources (ex: videos, blogs, etc...         7   \n",
       "\n",
       "   ...              Age Gender Trans                Sexuality  \\\n",
       "0  ...  25-34 years old    Man    No  Straight / Heterosexual   \n",
       "1  ...  18-24 years old    Man    No  Straight / Heterosexual   \n",
       "\n",
       "                      Ethnicity      Accessibility       MentalHealth  \\\n",
       "0  White or of European descent  None of the above  None of the above   \n",
       "1  White or of European descent  None of the above  None of the above   \n",
       "\n",
       "            SurveyLength SurveyEase ConvertedCompYearly  \n",
       "0  Appropriate in length       Easy             62268.0  \n",
       "1  Appropriate in length       Easy                 NaN  \n",
       "\n",
       "[2 rows x 48 columns]"
      ]
     },
     "execution_count": 29,
     "metadata": {},
     "output_type": "execute_result"
    }
   ],
   "source": [
    "row1 = df.loc[0]\n",
    "row2 = df.loc[1]\n",
    "df_2lines = pd.DataFrame(\n",
    "    [row1,\n",
    "    row2])\n",
    "\n",
    "df_2lines"
   ]
  },
  {
   "cell_type": "code",
   "execution_count": 44,
   "id": "504cae79-60b5-418b-9d1d-4ece30fcdf44",
   "metadata": {},
   "outputs": [
    {
     "data": {
      "text/html": [
       "<div>\n",
       "<style scoped>\n",
       "    .dataframe tbody tr th:only-of-type {\n",
       "        vertical-align: middle;\n",
       "    }\n",
       "\n",
       "    .dataframe tbody tr th {\n",
       "        vertical-align: top;\n",
       "    }\n",
       "\n",
       "    .dataframe thead th {\n",
       "        text-align: right;\n",
       "    }\n",
       "</style>\n",
       "<table border=\"1\" class=\"dataframe\">\n",
       "  <thead>\n",
       "    <tr style=\"text-align: right;\">\n",
       "      <th></th>\n",
       "      <th>MainBranch</th>\n",
       "      <th>US_State</th>\n",
       "    </tr>\n",
       "  </thead>\n",
       "  <tbody>\n",
       "    <tr>\n",
       "      <th>0</th>\n",
       "      <td>I am a developer by profession</td>\n",
       "      <td>NaN</td>\n",
       "    </tr>\n",
       "    <tr>\n",
       "      <th>1</th>\n",
       "      <td>I am a student who is learning to code</td>\n",
       "      <td>NaN</td>\n",
       "    </tr>\n",
       "    <tr>\n",
       "      <th>2</th>\n",
       "      <td>I am not primarily a developer, but I write co...</td>\n",
       "      <td>NaN</td>\n",
       "    </tr>\n",
       "    <tr>\n",
       "      <th>3</th>\n",
       "      <td>I am a developer by profession</td>\n",
       "      <td>NaN</td>\n",
       "    </tr>\n",
       "    <tr>\n",
       "      <th>4</th>\n",
       "      <td>I am a developer by profession</td>\n",
       "      <td>NaN</td>\n",
       "    </tr>\n",
       "    <tr>\n",
       "      <th>...</th>\n",
       "      <td>...</td>\n",
       "      <td>...</td>\n",
       "    </tr>\n",
       "    <tr>\n",
       "      <th>83434</th>\n",
       "      <td>I am a developer by profession</td>\n",
       "      <td>Texas</td>\n",
       "    </tr>\n",
       "    <tr>\n",
       "      <th>83435</th>\n",
       "      <td>I am a developer by profession</td>\n",
       "      <td>NaN</td>\n",
       "    </tr>\n",
       "    <tr>\n",
       "      <th>83436</th>\n",
       "      <td>I am a developer by profession</td>\n",
       "      <td>New Jersey</td>\n",
       "    </tr>\n",
       "    <tr>\n",
       "      <th>83437</th>\n",
       "      <td>I am a developer by profession</td>\n",
       "      <td>NaN</td>\n",
       "    </tr>\n",
       "    <tr>\n",
       "      <th>83438</th>\n",
       "      <td>I am a developer by profession</td>\n",
       "      <td>NaN</td>\n",
       "    </tr>\n",
       "  </tbody>\n",
       "</table>\n",
       "<p>83439 rows × 2 columns</p>\n",
       "</div>"
      ],
      "text/plain": [
       "                                              MainBranch    US_State\n",
       "0                         I am a developer by profession         NaN\n",
       "1                 I am a student who is learning to code         NaN\n",
       "2      I am not primarily a developer, but I write co...         NaN\n",
       "3                         I am a developer by profession         NaN\n",
       "4                         I am a developer by profession         NaN\n",
       "...                                                  ...         ...\n",
       "83434                     I am a developer by profession       Texas\n",
       "83435                     I am a developer by profession         NaN\n",
       "83436                     I am a developer by profession  New Jersey\n",
       "83437                     I am a developer by profession         NaN\n",
       "83438                     I am a developer by profession         NaN\n",
       "\n",
       "[83439 rows x 2 columns]"
      ]
     },
     "execution_count": 44,
     "metadata": {},
     "output_type": "execute_result"
    }
   ],
   "source": [
    "col1 = df['MainBranch']\n",
    "col2 = df.US_State\n",
    "df_2rows = pd.concat([col1, col2], axis=1)\n",
    "df_2rows"
   ]
  },
  {
   "cell_type": "code",
   "execution_count": 51,
   "id": "bc18aeec-3c9e-4b9f-9555-9ae6e923f36b",
   "metadata": {},
   "outputs": [
    {
     "data": {
      "text/html": [
       "<div>\n",
       "<style scoped>\n",
       "    .dataframe tbody tr th:only-of-type {\n",
       "        vertical-align: middle;\n",
       "    }\n",
       "\n",
       "    .dataframe tbody tr th {\n",
       "        vertical-align: top;\n",
       "    }\n",
       "\n",
       "    .dataframe thead th {\n",
       "        text-align: right;\n",
       "    }\n",
       "</style>\n",
       "<table border=\"1\" class=\"dataframe\">\n",
       "  <thead>\n",
       "    <tr style=\"text-align: right;\">\n",
       "      <th></th>\n",
       "      <th>apples</th>\n",
       "      <th>oranges</th>\n",
       "    </tr>\n",
       "  </thead>\n",
       "  <tbody>\n",
       "    <tr>\n",
       "      <th>0</th>\n",
       "      <td>3</td>\n",
       "      <td>0</td>\n",
       "    </tr>\n",
       "    <tr>\n",
       "      <th>1</th>\n",
       "      <td>2</td>\n",
       "      <td>3</td>\n",
       "    </tr>\n",
       "    <tr>\n",
       "      <th>2</th>\n",
       "      <td>0</td>\n",
       "      <td>7</td>\n",
       "    </tr>\n",
       "    <tr>\n",
       "      <th>3</th>\n",
       "      <td>1</td>\n",
       "      <td>2</td>\n",
       "    </tr>\n",
       "  </tbody>\n",
       "</table>\n",
       "</div>"
      ],
      "text/plain": [
       "   apples  oranges\n",
       "0       3        0\n",
       "1       2        3\n",
       "2       0        7\n",
       "3       1        2"
      ]
     },
     "execution_count": 51,
     "metadata": {},
     "output_type": "execute_result"
    }
   ],
   "source": [
    "data = {\n",
    "    'apples': [3,2,0,1], # this is not a Series!\n",
    "    'oranges': [0,3,7,2]\n",
    "}\n",
    "testdf = pd.DataFrame(data)\n",
    "testdf"
   ]
  },
  {
   "cell_type": "code",
   "execution_count": 58,
   "id": "9f32c8fd-00bd-45fd-99d1-59e41595aea2",
   "metadata": {},
   "outputs": [
    {
     "data": {
      "text/plain": [
       "Index(['mainbranch', 'employment', 'country', 'us_state', 'uk_country',\n",
       "       'edlevel', 'age1stcode', 'learncode', 'yearscode', 'yearscodepro',\n",
       "       'devtype', 'orgsize', 'currency', 'comptotal', 'compfreq',\n",
       "       'languagehaveworkedwith', 'languagewanttoworkwith',\n",
       "       'databasehaveworkedwith', 'databasewanttoworkwith',\n",
       "       'platformhaveworkedwith', 'platformwanttoworkwith',\n",
       "       'webframehaveworkedwith', 'webframewanttoworkwith',\n",
       "       'misctechhaveworkedwith', 'misctechwanttoworkwith',\n",
       "       'toolstechhaveworkedwith', 'toolstechwanttoworkwith',\n",
       "       'newcollabtoolshaveworkedwith', 'newcollabtoolswanttoworkwith', 'opsys',\n",
       "       'newstuck', 'newsosites', 'sovisitfreq', 'soaccount', 'sopartfreq',\n",
       "       'socomm', 'newothercomms', 'age', 'gender', 'trans', 'sexuality',\n",
       "       'ethnicity', 'accessibility', 'mentalhealth', 'surveylength',\n",
       "       'surveyease', 'convertedcompyearly'],\n",
       "      dtype='object')"
      ]
     },
     "execution_count": 58,
     "metadata": {},
     "output_type": "execute_result"
    }
   ],
   "source": [
    "df.columns = [col.lower() for col in df.columns]\n",
    "df.columns"
   ]
  },
  {
   "cell_type": "code",
   "execution_count": 75,
   "id": "c5898188-9d67-4252-aeab-b52b9061513b",
   "metadata": {},
   "outputs": [
    {
     "data": {
      "text/plain": [
       "Man                                                                                   74817\n",
       "Woman                                                                                  4120\n",
       "Prefer not to say                                                                      1442\n",
       "Non-binary, genderqueer, or gender non-conforming                                       690\n",
       "Or, in your own words:                                                                  413\n",
       "Man;Or, in your own words:                                                              268\n",
       "Man;Non-binary, genderqueer, or gender non-conforming                                   252\n",
       "Woman;Non-binary, genderqueer, or gender non-conforming                                 147\n",
       "Man;Woman                                                                                41\n",
       "Non-binary, genderqueer, or gender non-conforming;Or, in your own words:                 21\n",
       "Man;Woman;Non-binary, genderqueer, or gender non-conforming                              21\n",
       "Man;Woman;Non-binary, genderqueer, or gender non-conforming;Or, in your own words:       17\n",
       "Woman;Or, in your own words:                                                             16\n",
       "Man;Non-binary, genderqueer, or gender non-conforming;Or, in your own words:             11\n",
       "Woman;Non-binary, genderqueer, or gender non-conforming;Or, in your own words:            9\n",
       "Man;Woman;Or, in your own words:                                                          1\n",
       "Name: gender, dtype: int64"
      ]
     },
     "execution_count": 75,
     "metadata": {},
     "output_type": "execute_result"
    }
   ],
   "source": [
    "# df.gender.value_counts()"
   ]
  },
  {
   "cell_type": "code",
   "execution_count": 79,
   "id": "52831a01-3f1a-48d2-a1c1-d8c8ae2363e5",
   "metadata": {},
   "outputs": [
    {
     "data": {
      "text/plain": [
       "Man      74817\n",
       "Woman     4120\n",
       "Name: gender, dtype: int64"
      ]
     },
     "execution_count": 79,
     "metadata": {},
     "output_type": "execute_result"
    }
   ],
   "source": [
    "# condition = ((df['gender'=='Man']) | (df['gender'=='Woman']))\n",
    "df_manwoman = df[df['gender'].isin(['Man', 'Woman'])]\n",
    "df_manwoman.gender.value_counts()"
   ]
  },
  {
   "cell_type": "code",
   "execution_count": 98,
   "id": "4e5e319f-fa72-4398-b427-a853b417ceff",
   "metadata": {},
   "outputs": [
    {
     "data": {
      "text/plain": [
       "<AxesSubplot:>"
      ]
     },
     "execution_count": 98,
     "metadata": {},
     "output_type": "execute_result"
    },
    {
     "data": {
      "image/png": "[encoded data removed]",
      "text/plain": [
       "<Figure size 432x288 with 1 Axes>"
      ]
     },
     "metadata": {
      "needs_background": "light"
     },
     "output_type": "display_data"
    }
   ],
   "source": [
    "# mean of convertedcompyearly\n",
    "mean_man = df[df['gender']=='Man'].convertedcompyearly.mean()\n",
    "mean_woman = df[df['gender']=='Woman'].convertedcompyearly.mean()\n",
    "mwmean = pd.DataFrame(\n",
    "    {\n",
    "    'Male': [mean_man],\n",
    "    'Female': [mean_woman]\n",
    "    }, index=['Mean Income']\n",
    ")\n",
    "mwmean.plot(kind='bar')"
   ]
  },
  {
   "cell_type": "code",
   "execution_count": null,
   "id": "3669f255-d564-4fe6-b618-d033f926fbc6",
   "metadata": {},
   "outputs": [],
   "source": []
  }
 ],
 "metadata": {
  "kernelspec": {
   "display_name": "Python 3",
   "language": "python",
   "name": "python3"
  },
  "language_info": {
   "codemirror_mode": {
    "name": "ipython",
    "version": 3
   },
   "file_extension": ".py",
   "mimetype": "text/x-python",
   "name": "python",
   "nbconvert_exporter": "python",
   "pygments_lexer": "ipython3",
   "version": "3.9.6"
  }
 },
 "nbformat": 4,
 "nbformat_minor": 5
}
