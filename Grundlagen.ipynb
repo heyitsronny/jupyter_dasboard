{
 "cells": [
  {
   "cell_type": "code",
   "execution_count": 1,
   "id": "5cdf4a14-4905-41bb-a0f1-6bf1b4add184",
   "metadata": {},
   "outputs": [],
   "source": [
    "import pandas as pd"
   ]
  },
  {
   "cell_type": "code",
   "execution_count": 4,
   "id": "744814f7-fd49-43d9-a0be-90b5d2fd3cf0",
   "metadata": {},
   "outputs": [
    {
     "data": {
      "text/plain": [
       "Developer, full-stack                                                                                                                                                                                                                                                                                                                                                                                          8601\n",
       "Developer, back-end                                                                                                                                                                                                                                                                                                                                                                                            5467\n",
       "Developer, front-end                                                                                                                                                                                                                                                                                                                                                                                           2402\n",
       "Developer, front-end;Developer, full-stack;Developer, back-end                                                                                                                                                                                                                                                                                                                                                 2141\n",
       "Developer, full-stack;Developer, back-end                                                                                                                                                                                                                                                                                                                                                                      1774\n",
       "                                                                                                                                                                                                                                                                                                                                                                                                               ... \n",
       "Developer, mobile;Developer, desktop or enterprise applications;Developer, full-stack;Engineer, data                                                                                                                                                                                                                                                                                                              1\n",
       "Developer, mobile;Developer, front-end;Developer, desktop or enterprise applications;Developer, full-stack;Engineer, data;Developer, back-end;Scientist;Developer, QA or test;Developer, game or graphics;Developer, embedded applications or devices;DevOps specialist;Engineering manager;Engineer, site reliability;Product manager;Senior Executive (C-Suite, VP, etc.);Marketing or sales professional       1\n",
       "Developer, back-end;Student;Developer, embedded applications or devices;Designer                                                                                                                                                                                                                                                                                                                                  1\n",
       "Developer, front-end;Developer, full-stack;Engineer, data;Data scientist or machine learning specialist;Developer, back-end;Database administrator;Designer;Engineering manager;Engineer, site reliability;Product manager;Senior Executive (C-Suite, VP, etc.);Marketing or sales professional                                                                                                                   1\n",
       "Developer, mobile;Developer, desktop or enterprise applications;Data scientist or machine learning specialist;Developer, back-end;Engineering manager                                                                                                                                                                                                                                                             1\n",
       "Name: DevType, Length: 8626, dtype: int64"
      ]
     },
     "execution_count": 4,
     "metadata": {},
     "output_type": "execute_result"
    }
   ],
   "source": [
    "df = pd.read_csv(\"./datasets/survey_results_public_2021.csv\", index_col='ResponseId')\n",
    "df.DevType.value_counts()"
   ]
  },
  {
   "cell_type": "code",
   "execution_count": null,
   "id": "9af8b82e-325d-45fb-bbc1-9d8100517e1b",
   "metadata": {},
   "outputs": [],
   "source": [
    "front = df.DevType.head().str.count('Developer, front-end').sum()\n",
    "back = df.DevType.head().str.count('Developer, back-end').sum()\n",
    "full = df.DevType.head().str.count('Developer, full-stack').sum()\n",
    "print('front: ' + str(front) + '    back: ' + str(back) + '    full: ' + str(full))\n",
    "df.DevType.head()"
   ]
  },
  {
   "cell_type": "code",
   "execution_count": null,
   "id": "69661a0e-b560-4b1f-b7e1-5c0a9ced80e4",
   "metadata": {},
   "outputs": [],
   "source": [
    "row1 = df.loc[0]\n",
    "row2 = df.loc[1]\n",
    "df_2lines = pd.DataFrame(\n",
    "    [row1,\n",
    "    row2])\n",
    "\n",
    "df_2lines"
   ]
  },
  {
   "cell_type": "code",
   "execution_count": null,
   "id": "504cae79-60b5-418b-9d1d-4ece30fcdf44",
   "metadata": {},
   "outputs": [],
   "source": [
    "col1 = df['MainBranch']\n",
    "col2 = df.US_State\n",
    "df_2rows = pd.concat([col1, col2], axis=1)\n",
    "df_2rows"
   ]
  },
  {
   "cell_type": "code",
   "execution_count": null,
   "id": "bc18aeec-3c9e-4b9f-9555-9ae6e923f36b",
   "metadata": {},
   "outputs": [],
   "source": [
    "data = {\n",
    "    'apples': [3,2,0,1], # this is not a Series!\n",
    "    'oranges': [0,3,7,2]\n",
    "}\n",
    "testdf = pd.DataFrame(data)\n",
    "testdf"
   ]
  },
  {
   "cell_type": "code",
   "execution_count": null,
   "id": "9f32c8fd-00bd-45fd-99d1-59e41595aea2",
   "metadata": {},
   "outputs": [],
   "source": [
    "df.columns = [col.lower() for col in df.columns]\n",
    "df.columns"
   ]
  },
  {
   "cell_type": "code",
   "execution_count": null,
   "id": "c5898188-9d67-4252-aeab-b52b9061513b",
   "metadata": {},
   "outputs": [],
   "source": [
    "# df.gender.value_counts()"
   ]
  },
  {
   "cell_type": "code",
   "execution_count": null,
   "id": "52831a01-3f1a-48d2-a1c1-d8c8ae2363e5",
   "metadata": {},
   "outputs": [],
   "source": [
    "# condition = ((df['gender'=='Man']) | (df['gender'=='Woman']))\n",
    "df_manwoman = df[df['gender'].isin(['Man', 'Woman'])]\n",
    "df_manwoman.gender.value_counts()"
   ]
  },
  {
   "cell_type": "code",
   "execution_count": null,
   "id": "4e5e319f-fa72-4398-b427-a853b417ceff",
   "metadata": {},
   "outputs": [],
   "source": [
    "# mean of convertedcompyearly\n",
    "mean_man = df[df['gender']=='Man'].convertedcompyearly.mean()\n",
    "mean_woman = df[df['gender']=='Woman'].convertedcompyearly.mean()\n",
    "mwmean = pd.DataFrame(\n",
    "    {\n",
    "    'Male': [mean_man],\n",
    "    'Female': [mean_woman]\n",
    "    }, index=['Mean Income']\n",
    ")\n",
    "mwmean.plot(kind='bar')"
   ]
  },
  {
   "cell_type": "code",
   "execution_count": null,
   "id": "3669f255-d564-4fe6-b618-d033f926fbc6",
   "metadata": {},
   "outputs": [],
   "source": []
  }
 ],
 "metadata": {
  "kernelspec": {
   "display_name": "Python 3",
   "language": "python",
   "name": "python3"
  },
  "language_info": {
   "codemirror_mode": {
    "name": "ipython",
    "version": 3
   },
   "file_extension": ".py",
   "mimetype": "text/x-python",
   "name": "python",
   "nbconvert_exporter": "python",
   "pygments_lexer": "ipython3",
   "version": "3.9.6"
  }
 },
 "nbformat": 4,
 "nbformat_minor": 5
}
